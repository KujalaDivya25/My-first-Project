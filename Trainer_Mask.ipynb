{
  "nbformat": 4,
  "nbformat_minor": 0,
  "metadata": {
    "accelerator": "GPU",
    "colab": {
      "name": "Trainer_Mask.ipynb",
      "provenance": [],
      "collapsed_sections": [],
      "mount_file_id": "1nKY3WeZSvqmkKO5pts4a6StJ3e4wXO-M",
      "authorship_tag": "ABX9TyPYh4vMcFaxkUaWjjgiGFwR",
      "include_colab_link": true
    },
    "kernelspec": {
      "display_name": "Python 3",
      "name": "python3"
    },
    "language_info": {
      "name": "python"
    }
  },
  "cells": [
    {
      "cell_type": "markdown",
      "metadata": {
        "id": "view-in-github",
        "colab_type": "text"
      },
      "source": [
        "<a href=\"https://colab.research.google.com/github/KujalaDivya25/My-first-Project/blob/master/Trainer_Mask.ipynb\" target=\"_parent\"><img src=\"https://colab.research.google.com/assets/colab-badge.svg\" alt=\"Open In Colab\"/></a>"
      ]
    },
    {
      "cell_type": "code",
      "metadata": {
        "id": "oiEW-eltErLM"
      },
      "source": [
        "import os\n",
        "from tensorflow.keras.applications.mobilenet_v2 import preprocess_input\n",
        "from tensorflow.keras.preprocessing.image import img_to_array\n",
        "from tensorflow.keras.preprocessing.image import load_img"
      ],
      "execution_count": 10,
      "outputs": []
    },
    {
      "cell_type": "code",
      "metadata": {
        "id": "pgePePXJ8qYU"
      },
      "source": [
        "DIRECTORY = r\"/content/drive/MyDrive/dataset\"\n",
        "CATEGORIES = [\"with_mask\", \"without_mask\"]"
      ],
      "execution_count": 11,
      "outputs": []
    },
    {
      "cell_type": "code",
      "metadata": {
        "id": "lz97VRU10g8E"
      },
      "source": [
        "from tensorflow.keras.preprocessing.image import ImageDataGenerator\n",
        "aug = ImageDataGenerator(\n",
        "\trotation_range=20,\n",
        "\tzoom_range=0.15,\n",
        "\twidth_shift_range=0.2,\n",
        "\theight_shift_range=0.2,\n",
        "\tshear_range=0.15,\n",
        "\thorizontal_flip=True,\n",
        "\tfill_mode=\"nearest\")"
      ],
      "execution_count": 12,
      "outputs": []
    },
    {
      "cell_type": "code",
      "metadata": {
        "colab": {
          "base_uri": "https://localhost:8080/"
        },
        "id": "9Lu4KDpIET4h",
        "outputId": "42a18cb7-a5cf-45d9-e813-3f15b91d5c50"
      },
      "source": [
        "data = []\n",
        "labels = []\n",
        "\n",
        "for category in CATEGORIES:\n",
        "    path = os.path.join(DIRECTORY, category)\n",
        "    for img in os.listdir(path):\n",
        "    \timg_path = os.path.join(path, img)\n",
        "    \timage = load_img(img_path, target_size=(224, 224))\n",
        "    \timage = img_to_array(image)\n",
        "    \timage = preprocess_input(image)\n",
        "\n",
        "    \tdata.append(image)\n",
        "    \tlabels.append(category)"
      ],
      "execution_count": 13,
      "outputs": [
        {
          "output_type": "stream",
          "text": [
            "/usr/local/lib/python3.7/dist-packages/PIL/Image.py:960: UserWarning: Palette images with Transparency expressed in bytes should be converted to RGBA images\n",
            "  \"Palette images with Transparency expressed in bytes should be \"\n"
          ],
          "name": "stderr"
        }
      ]
    },
    {
      "cell_type": "code",
      "metadata": {
        "id": "bnKOBzprIq-U"
      },
      "source": [
        "from tensorflow.keras.utils import to_categorical\n",
        "from sklearn.preprocessing import LabelBinarizer\n",
        "import numpy as np"
      ],
      "execution_count": 14,
      "outputs": []
    },
    {
      "cell_type": "code",
      "metadata": {
        "id": "STEbORUKIZWa"
      },
      "source": [
        "lb = LabelBinarizer()\n",
        "labels = lb.fit_transform(labels)\n",
        "\n",
        "labels = to_categorical(labels)\n",
        "\n",
        "data = np.array(data, dtype=\"float32\")\n",
        "labels = np.array(labels)\n",
        "\n",
        "\n"
      ],
      "execution_count": 15,
      "outputs": []
    },
    {
      "cell_type": "code",
      "metadata": {
        "id": "e2Cq7KRKUDli"
      },
      "source": [
        ""
      ],
      "execution_count": null,
      "outputs": []
    },
    {
      "cell_type": "code",
      "metadata": {
        "colab": {
          "base_uri": "https://localhost:8080/"
        },
        "id": "-yArTH-iSwYf",
        "outputId": "5da21694-65e5-4b97-ae55-1ab3ab069753"
      },
      "source": [
        "print(type(labels))"
      ],
      "execution_count": null,
      "outputs": [
        {
          "output_type": "stream",
          "text": [
            "<class 'numpy.ndarray'>\n"
          ],
          "name": "stdout"
        }
      ]
    },
    {
      "cell_type": "code",
      "metadata": {
        "id": "XAEjIz3rIyjL"
      },
      "source": [
        "from sklearn.model_selection import train_test_split\n",
        "\n",
        "(trainX, testX, trainY, testY) = train_test_split(data, labels,test_size=0.20, stratify=labels, random_state=42)\n"
      ],
      "execution_count": 16,
      "outputs": []
    },
    {
      "cell_type": "code",
      "metadata": {
        "id": "BxP8B6jm6QMR"
      },
      "source": [
        "from tensorflow.keras.applications import MobileNetV2\n",
        "from tensorflow.keras.layers import AveragePooling2D\n",
        "from tensorflow.keras.layers import Dropout\n",
        "from tensorflow.keras.layers import Flatten\n",
        "from tensorflow.keras.layers import Dense\n",
        "from tensorflow.keras.layers import Input\n",
        "from tensorflow.keras.models import Model\n",
        "from tensorflow.keras.optimizers import Adam"
      ],
      "execution_count": 17,
      "outputs": []
    },
    {
      "cell_type": "code",
      "metadata": {
        "colab": {
          "base_uri": "https://localhost:8080/"
        },
        "id": "rvpEyYlB5_hT",
        "outputId": "4f973010-877d-44b2-8237-f78a60d0dd43"
      },
      "source": [
        "\n",
        "baseModel = MobileNetV2(weights=\"imagenet\", include_top=False,\n",
        "\tinput_tensor=Input(shape=(224, 224, 3)))"
      ],
      "execution_count": 18,
      "outputs": [
        {
          "output_type": "stream",
          "text": [
            "WARNING:tensorflow:`input_shape` is undefined or non-square, or `rows` is not in [96, 128, 160, 192, 224]. Weights for input shape (224, 224) will be loaded as the default.\n",
            "Downloading data from https://storage.googleapis.com/tensorflow/keras-applications/mobilenet_v2/mobilenet_v2_weights_tf_dim_ordering_tf_kernels_1.0_224_no_top.h5\n",
            "9412608/9406464 [==============================] - 0s 0us/step\n"
          ],
          "name": "stdout"
        }
      ]
    },
    {
      "cell_type": "code",
      "metadata": {
        "id": "qDkgau-V6c9v"
      },
      "source": [
        "headModel = baseModel.output\n",
        "headModel = AveragePooling2D(pool_size=(7, 7))(headModel)\n",
        "headModel = Flatten(name=\"flatten\")(headModel)\n",
        "headModel = Dense(128, activation=\"relu\")(headModel)\n",
        "headModel = Dropout(0.5)(headModel)\n",
        "headModel = Dense(2, activation=\"softmax\")(headModel)\n"
      ],
      "execution_count": 19,
      "outputs": []
    },
    {
      "cell_type": "code",
      "metadata": {
        "id": "5zg7zeFN6ghG"
      },
      "source": [
        "model = Model(inputs=baseModel.input, outputs=headModel)"
      ],
      "execution_count": 20,
      "outputs": []
    },
    {
      "cell_type": "code",
      "metadata": {
        "id": "p3n3e9QS6jpo"
      },
      "source": [
        "for layer in baseModel.layers:\n",
        "\tlayer.trainable = False"
      ],
      "execution_count": 21,
      "outputs": []
    },
    {
      "cell_type": "code",
      "metadata": {
        "colab": {
          "base_uri": "https://localhost:8080/"
        },
        "id": "uvuXTwYp6nwz",
        "outputId": "2cf70991-0835-4b8f-cfb4-0f7cad78101e"
      },
      "source": [
        "INIT_LR = 1e-4\n",
        "EPOCHS = 20\n",
        "BS = 32\n",
        "\n",
        "print(\"[INFO] compiling model...\")\n",
        "opt = Adam(lr=INIT_LR, decay=INIT_LR / EPOCHS)\n",
        "model.compile(loss=\"binary_crossentropy\", optimizer=opt,\n",
        "\tmetrics=[\"accuracy\"])"
      ],
      "execution_count": 22,
      "outputs": [
        {
          "output_type": "stream",
          "text": [
            "[INFO] compiling model...\n"
          ],
          "name": "stdout"
        }
      ]
    },
    {
      "cell_type": "code",
      "metadata": {
        "colab": {
          "base_uri": "https://localhost:8080/"
        },
        "id": "VIZNle3-6yrP",
        "outputId": "69cabd8a-cdc1-4ba0-ca26-9b4d3a303c1e"
      },
      "source": [
        "print(\"[INFO] training head...\")\n",
        "H = model.fit(\n",
        "\taug.flow(trainX, trainY, batch_size=BS),\n",
        "\tsteps_per_epoch=len(trainX) // BS,\n",
        "\tvalidation_data=(testX, testY),\n",
        "\tvalidation_steps=len(testX) // BS,\n",
        "\tepochs=EPOCHS)"
      ],
      "execution_count": 23,
      "outputs": [
        {
          "output_type": "stream",
          "text": [
            "[INFO] training head...\n",
            "Epoch 1/20\n",
            "96/96 [==============================] - 59s 289ms/step - loss: 0.6010 - accuracy: 0.7204 - val_loss: 0.1774 - val_accuracy: 0.9766\n",
            "Epoch 2/20\n",
            "96/96 [==============================] - 27s 282ms/step - loss: 0.1955 - accuracy: 0.9551 - val_loss: 0.0915 - val_accuracy: 0.9818\n",
            "Epoch 3/20\n",
            "96/96 [==============================] - 27s 281ms/step - loss: 0.1173 - accuracy: 0.9703 - val_loss: 0.0654 - val_accuracy: 0.9870\n",
            "Epoch 4/20\n",
            "96/96 [==============================] - 27s 282ms/step - loss: 0.0785 - accuracy: 0.9823 - val_loss: 0.0509 - val_accuracy: 0.9896\n",
            "Epoch 5/20\n",
            "96/96 [==============================] - 27s 280ms/step - loss: 0.0756 - accuracy: 0.9762 - val_loss: 0.0448 - val_accuracy: 0.9870\n",
            "Epoch 6/20\n",
            "96/96 [==============================] - 27s 282ms/step - loss: 0.0587 - accuracy: 0.9868 - val_loss: 0.0395 - val_accuracy: 0.9870\n",
            "Epoch 7/20\n",
            "96/96 [==============================] - 27s 281ms/step - loss: 0.0515 - accuracy: 0.9877 - val_loss: 0.0348 - val_accuracy: 0.9909\n",
            "Epoch 8/20\n",
            "96/96 [==============================] - 27s 280ms/step - loss: 0.0556 - accuracy: 0.9819 - val_loss: 0.0325 - val_accuracy: 0.9935\n",
            "Epoch 9/20\n",
            "96/96 [==============================] - 27s 282ms/step - loss: 0.0427 - accuracy: 0.9900 - val_loss: 0.0297 - val_accuracy: 0.9922\n",
            "Epoch 10/20\n",
            "96/96 [==============================] - 27s 280ms/step - loss: 0.0503 - accuracy: 0.9836 - val_loss: 0.0294 - val_accuracy: 0.9935\n",
            "Epoch 11/20\n",
            "96/96 [==============================] - 27s 282ms/step - loss: 0.0406 - accuracy: 0.9900 - val_loss: 0.0275 - val_accuracy: 0.9922\n",
            "Epoch 12/20\n",
            "96/96 [==============================] - 28s 287ms/step - loss: 0.0378 - accuracy: 0.9876 - val_loss: 0.0257 - val_accuracy: 0.9935\n",
            "Epoch 13/20\n",
            "96/96 [==============================] - 27s 283ms/step - loss: 0.0351 - accuracy: 0.9882 - val_loss: 0.0286 - val_accuracy: 0.9909\n",
            "Epoch 14/20\n",
            "96/96 [==============================] - 27s 281ms/step - loss: 0.0317 - accuracy: 0.9881 - val_loss: 0.0252 - val_accuracy: 0.9922\n",
            "Epoch 15/20\n",
            "96/96 [==============================] - 27s 282ms/step - loss: 0.0314 - accuracy: 0.9913 - val_loss: 0.0247 - val_accuracy: 0.9935\n",
            "Epoch 16/20\n",
            "96/96 [==============================] - 27s 282ms/step - loss: 0.0342 - accuracy: 0.9910 - val_loss: 0.0214 - val_accuracy: 0.9935\n",
            "Epoch 17/20\n",
            "96/96 [==============================] - 27s 281ms/step - loss: 0.0300 - accuracy: 0.9913 - val_loss: 0.0211 - val_accuracy: 0.9948\n",
            "Epoch 18/20\n",
            "96/96 [==============================] - 27s 283ms/step - loss: 0.0313 - accuracy: 0.9918 - val_loss: 0.0250 - val_accuracy: 0.9922\n",
            "Epoch 19/20\n",
            "96/96 [==============================] - 27s 285ms/step - loss: 0.0294 - accuracy: 0.9927 - val_loss: 0.0193 - val_accuracy: 0.9961\n",
            "Epoch 20/20\n",
            "96/96 [==============================] - 27s 283ms/step - loss: 0.0281 - accuracy: 0.9903 - val_loss: 0.0198 - val_accuracy: 0.9948\n"
          ],
          "name": "stdout"
        }
      ]
    },
    {
      "cell_type": "code",
      "metadata": {
        "colab": {
          "base_uri": "https://localhost:8080/"
        },
        "id": "l9lG0z6v9OHw",
        "outputId": "cf03a561-16b3-45f5-b535-a59599823dcf"
      },
      "source": [
        "print(\"[INFO] evaluating network...\")\n",
        "predIdxs = model.predict(testX, batch_size=BS)"
      ],
      "execution_count": 24,
      "outputs": [
        {
          "output_type": "stream",
          "text": [
            "[INFO] evaluating network...\n"
          ],
          "name": "stdout"
        }
      ]
    },
    {
      "cell_type": "code",
      "metadata": {
        "id": "kG70AhQd9nVI"
      },
      "source": [
        "predIdxs = np.argmax(predIdxs, axis=1)"
      ],
      "execution_count": 25,
      "outputs": []
    },
    {
      "cell_type": "code",
      "metadata": {
        "colab": {
          "base_uri": "https://localhost:8080/"
        },
        "id": "jIvywCM-9aXH",
        "outputId": "dacda468-62b9-4efd-da8c-d43ee5387992"
      },
      "source": [
        "from sklearn.metrics import classification_report\n",
        "from imutils import paths\n",
        "\n",
        "print(classification_report(testY.argmax(axis=1), predIdxs,\n",
        "\ttarget_names=lb.classes_))"
      ],
      "execution_count": null,
      "outputs": [
        {
          "output_type": "stream",
          "text": [
            "              precision    recall  f1-score   support\n",
            "\n",
            "   with_mask       0.99      0.99      0.99       383\n",
            "without_mask       0.99      0.99      0.99       386\n",
            "\n",
            "    accuracy                           0.99       769\n",
            "   macro avg       0.99      0.99      0.99       769\n",
            "weighted avg       0.99      0.99      0.99       769\n",
            "\n"
          ],
          "name": "stdout"
        }
      ]
    },
    {
      "cell_type": "code",
      "metadata": {
        "id": "Jt_rS3Lnorso"
      },
      "source": [
        "model.save(\"/content/mask_detector.model\", save_format=\"h5\")"
      ],
      "execution_count": 26,
      "outputs": []
    },
    {
      "cell_type": "code",
      "metadata": {
        "colab": {
          "base_uri": "https://localhost:8080/",
          "height": 316
        },
        "id": "rAJwzNeZB_K-",
        "outputId": "461e0a96-c629-4fdd-d20d-8bc4ce69b745"
      },
      "source": [
        "import matplotlib.pyplot as plt\n",
        "N = EPOCHS\n",
        "plt.style.use(\"ggplot\")\n",
        "plt.figure()\n",
        "plt.plot(np.arange(0, N), H.history[\"loss\"], label=\"train_loss\")\n",
        "plt.plot(np.arange(0, N), H.history[\"val_loss\"], label=\"val_loss\")\n",
        "plt.plot(np.arange(0, N), H.history[\"accuracy\"], label=\"train_acc\")\n",
        "plt.plot(np.arange(0, N), H.history[\"val_accuracy\"], label=\"val_acc\")\n",
        "plt.title(\"Training Loss and Accuracy\")\n",
        "plt.xlabel(\"Epoch #\")\n",
        "plt.ylabel(\"Loss/Accuracy\")\n",
        "plt.legend(loc=\"lower left\")"
      ],
      "execution_count": 28,
      "outputs": [
        {
          "output_type": "execute_result",
          "data": {
            "text/plain": [
              "<matplotlib.legend.Legend at 0x7f257e262d90>"
            ]
          },
          "metadata": {
            "tags": []
          },
          "execution_count": 28
        },
        {
          "output_type": "display_data",
          "data": {
            "image/png": "[encoded data removed]",
            "text/plain": [
              "<Figure size 432x288 with 1 Axes>"
            ]
          },
          "metadata": {
            "tags": []
          }
        }
      ]
    }
  ]
}